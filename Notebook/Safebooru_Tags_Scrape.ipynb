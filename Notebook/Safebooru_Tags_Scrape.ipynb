{
 "cells": [
  {
   "cell_type": "code",
   "execution_count": 1,
   "id": "40703b44",
   "metadata": {},
   "outputs": [],
   "source": [
    "import time\n",
    "import numpy as np\n",
    "import pandas as pd\n",
    "from splinter import Browser\n",
    "from bs4 import BeautifulSoup\n",
    "from selenium import webdriver\n",
    "from selenium.webdriver.common.by import By\n",
    "from selenium.webdriver.chrome.service import Service\n",
    "from selenium.common.exceptions import TimeoutException\n",
    "from webdriver_manager.chrome import ChromeDriverManager\n",
    "from selenium.webdriver.support.wait import WebDriverWait\n",
    "from selenium.webdriver.common.action_chains import ActionChains\n",
    "from selenium.webdriver.support import expected_conditions as EC"
   ]
  },
  {
   "cell_type": "code",
   "execution_count": 2,
   "id": "c6ed8f87",
   "metadata": {},
   "outputs": [],
   "source": [
    "opt = webdriver.ChromeOptions()\n",
    "opt.add_argument(\"--incognito\")\n",
    "opt.add_argument(\"disable-infobars\")\n",
    "opt.add_argument(\"--disable-extensions\")\n",
    "opt.add_argument(\"--disable-gpu\")\n",
    "opt.add_argument(\"--disable-dev-shm-usage\")\n",
    "opt.add_argument(\"--no-sandbox\")\n",
    "user_agent = 'Mozilla/5.0 (Windows NT 10.0; Win64; x64) AppleWebKit/537.36 (KHTML, like Gecko) Chrome/83.0.4103.116 Safari/537.36'\n",
    "opt.add_argument(f'user-agent={user_agent}')\n",
    "opt.add_argument(\"--headless=new\")\n",
    "\n",
    "driver = webdriver.Chrome(options=opt)\n",
    "driver.get(\"https://safebooru.org/index.php?page=tags&s=list&pid=0\")\n",
    "wait = WebDriverWait(driver, 20)"
   ]
  },
  {
   "cell_type": "code",
   "execution_count": 3,
   "id": "5dbfeb82",
   "metadata": {},
   "outputs": [
    {
     "data": {
      "text/plain": [
       "<selenium.webdriver.remote.webelement.WebElement (session=\"6d76736378373ff822582dfa60db5c0f\", element=\"f.84BFF2758A8CBFB1B34109B05DD99362.d.33534FD9366C16D72D64C8F3746AB6E5.e.7\")>"
      ]
     },
     "execution_count": 3,
     "metadata": {},
     "output_type": "execute_result"
    }
   ],
   "source": [
    "wait.until(EC.visibility_of_element_located((By.CLASS_NAME, \"pagination\")))"
   ]
  },
  {
   "cell_type": "code",
   "execution_count": 4,
   "id": "06784476",
   "metadata": {},
   "outputs": [],
   "source": [
    "#page = driver.page_source\n",
    "#soup = BeautifulSoup(page, \"lxml\")"
   ]
  },
  {
   "cell_type": "code",
   "execution_count": 5,
   "id": "e6e24a75",
   "metadata": {},
   "outputs": [],
   "source": [
    "#tag_table = soup.find(class_=\"highlightable\")"
   ]
  },
  {
   "cell_type": "code",
   "execution_count": 9,
   "id": "ac4e2ef1",
   "metadata": {},
   "outputs": [],
   "source": [
    "#tags = tag_table.find_all(\"span\", class_=[\"tag-type-copyright\", \"tag-type-artist\", \"tag-type-general\", \"tag-type-character\", \"tag-type-metadata\"])#href=True\n",
    "#tags = tag_table.find_all(\"a\")"
   ]
  },
  {
   "cell_type": "code",
   "execution_count": 34,
   "id": "2b026bf4",
   "metadata": {},
   "outputs": [
    {
     "data": {
      "text/plain": [
       "'general'"
      ]
     },
     "execution_count": 34,
     "metadata": {},
     "output_type": "execute_result"
    }
   ],
   "source": [
    "#one = tags[0]\n",
    "#one[\"class\"][0][9:]#[21:-1]"
   ]
  },
  {
   "cell_type": "code",
   "execution_count": 8,
   "id": "be9660b0",
   "metadata": {},
   "outputs": [],
   "source": [
    "#button_location = driver.find_element(By.CLASS_NAME, \"pagination\")\n",
    "#button = button_location.find_element(By.XPATH, '//a[@alt=\"next\"]')\n",
    "#button.click()"
   ]
  },
  {
   "cell_type": "code",
   "execution_count": 9,
   "id": "b47b3865",
   "metadata": {},
   "outputs": [],
   "source": [
    "#button_location.text"
   ]
  },
  {
   "cell_type": "code",
   "execution_count": 10,
   "id": "00ed0f37",
   "metadata": {},
   "outputs": [],
   "source": [
    "#soup.find(alt=\"next\") != None"
   ]
  },
  {
   "cell_type": "code",
   "execution_count": 4,
   "id": "6991577f",
   "metadata": {},
   "outputs": [],
   "source": [
    "tags = []\n",
    "scrape = True\n",
    "\n",
    "while scrape:\n",
    "    try:\n",
    "        wait.until(EC.visibility_of_element_located((By.CLASS_NAME, \"pagination\")))\n",
    "        page = driver.page_source\n",
    "        soup = BeautifulSoup(page, \"lxml\")\n",
    "        tag_table = soup.find(class_=\"highlightable\")\n",
    "        tags += tag_table.find_all(\"span\", class_=[\"tag-type-copyright\", \"tag-type-artist\", \"tag-type-general\", \"tag-type-character\", \"tag-type-metadata\"])\n",
    "    \n",
    "        if soup.find(alt=\"next\") != None:\n",
    "            button_location = driver.find_element(By.CLASS_NAME, \"pagination\")\n",
    "            button = button_location.find_element(By.XPATH, '//a[@alt=\"next\"]')\n",
    "            button.click()\n",
    "        else:\n",
    "            scrape = False\n",
    "    except TimeoutException:\n",
    "        driver.refresh()"
   ]
  },
  {
   "cell_type": "code",
   "execution_count": 5,
   "id": "b0d0aa92",
   "metadata": {},
   "outputs": [
    {
     "data": {
      "text/plain": [
       "659523"
      ]
     },
     "execution_count": 5,
     "metadata": {},
     "output_type": "execute_result"
    }
   ],
   "source": [
    "len(tags)"
   ]
  },
  {
   "cell_type": "code",
   "execution_count": 6,
   "id": "074b8de3",
   "metadata": {},
   "outputs": [
    {
     "data": {
      "text/plain": [
       "658879"
      ]
     },
     "execution_count": 6,
     "metadata": {},
     "output_type": "execute_result"
    }
   ],
   "source": [
    "len(set(tags))"
   ]
  },
  {
   "cell_type": "code",
   "execution_count": 7,
   "id": "e71b1b08",
   "metadata": {},
   "outputs": [],
   "source": [
    "driver.close()"
   ]
  },
  {
   "cell_type": "code",
   "execution_count": 8,
   "id": "4f758e87",
   "metadata": {},
   "outputs": [],
   "source": [
    "nd_tags = list(set(tags))"
   ]
  },
  {
   "cell_type": "code",
   "execution_count": 9,
   "id": "13cba033",
   "metadata": {},
   "outputs": [],
   "source": [
    "url = 'https://safebooru.org'"
   ]
  },
  {
   "cell_type": "code",
   "execution_count": 10,
   "id": "f9842894",
   "metadata": {},
   "outputs": [
    {
     "data": {
      "text/plain": [
       "[<span class=\"tag-type-general\"><a href=\"index.php?page=post&amp;s=list&amp;tags=sleepymausu\">sleepymausu</a></span>,\n",
       " <span class=\"tag-type-artist\"><a href=\"index.php?page=post&amp;s=list&amp;tags=hiro_%28725611%29\">hiro_(725611)</a></span>,\n",
       " <span class=\"tag-type-general\"><a href=\"index.php?page=post&amp;s=list&amp;tags=ind_%28121%29\">ind_(121)</a></span>,\n",
       " <span class=\"tag-type-artist\"><a href=\"index.php?page=post&amp;s=list&amp;tags=shouri_%28harpy_killer%29\">shouri_(harpy_killer)</a></span>,\n",
       " <span class=\"tag-type-general\"><a href=\"index.php?page=post&amp;s=list&amp;tags=jun_%28pokemon%29_%28cosplay%29\">jun_(pokemon)_(cosplay)</a></span>]"
      ]
     },
     "execution_count": 10,
     "metadata": {},
     "output_type": "execute_result"
    }
   ],
   "source": [
    "nd_tags[0:5]"
   ]
  },
  {
   "cell_type": "code",
   "execution_count": 54,
   "id": "ea29a963",
   "metadata": {},
   "outputs": [],
   "source": [
    "main_cat = []\n",
    "names = []\n",
    "links = []\n",
    "for i in nd_tags:\n",
    "    main_cat.append(i[\"class\"][0][9:])\n",
    "    get_ = i.find('a')['href'].strip().split('/')[-1]\n",
    "    link = \"{}/{}\".format(url, get_)\n",
    "    names.append(i.text)\n",
    "    links.append(link)"
   ]
  },
  {
   "cell_type": "code",
   "execution_count": 55,
   "id": "58421300",
   "metadata": {},
   "outputs": [],
   "source": [
    "data = {\"Main_Category\": main_cat, \"Name\": names, \"Link\": links}"
   ]
  },
  {
   "cell_type": "code",
   "execution_count": 56,
   "id": "2a48a877",
   "metadata": {},
   "outputs": [
    {
     "data": {
      "text/html": [
       "<div>\n",
       "<style scoped>\n",
       "    .dataframe tbody tr th:only-of-type {\n",
       "        vertical-align: middle;\n",
       "    }\n",
       "\n",
       "    .dataframe tbody tr th {\n",
       "        vertical-align: top;\n",
       "    }\n",
       "\n",
       "    .dataframe thead th {\n",
       "        text-align: right;\n",
       "    }\n",
       "</style>\n",
       "<table border=\"1\" class=\"dataframe\">\n",
       "  <thead>\n",
       "    <tr style=\"text-align: right;\">\n",
       "      <th></th>\n",
       "      <th>Main_Category</th>\n",
       "      <th>Name</th>\n",
       "      <th>Link</th>\n",
       "    </tr>\n",
       "  </thead>\n",
       "  <tbody>\n",
       "    <tr>\n",
       "      <th>0</th>\n",
       "      <td>general</td>\n",
       "      <td>sleepymausu</td>\n",
       "      <td>https://safebooru.org/index.php?page=post&amp;s=li...</td>\n",
       "    </tr>\n",
       "    <tr>\n",
       "      <th>1</th>\n",
       "      <td>artist</td>\n",
       "      <td>hiro_(725611)</td>\n",
       "      <td>https://safebooru.org/index.php?page=post&amp;s=li...</td>\n",
       "    </tr>\n",
       "    <tr>\n",
       "      <th>2</th>\n",
       "      <td>general</td>\n",
       "      <td>ind_(121)</td>\n",
       "      <td>https://safebooru.org/index.php?page=post&amp;s=li...</td>\n",
       "    </tr>\n",
       "    <tr>\n",
       "      <th>3</th>\n",
       "      <td>artist</td>\n",
       "      <td>shouri_(harpy_killer)</td>\n",
       "      <td>https://safebooru.org/index.php?page=post&amp;s=li...</td>\n",
       "    </tr>\n",
       "    <tr>\n",
       "      <th>4</th>\n",
       "      <td>general</td>\n",
       "      <td>jun_(pokemon)_(cosplay)</td>\n",
       "      <td>https://safebooru.org/index.php?page=post&amp;s=li...</td>\n",
       "    </tr>\n",
       "    <tr>\n",
       "      <th>...</th>\n",
       "      <td>...</td>\n",
       "      <td>...</td>\n",
       "      <td>...</td>\n",
       "    </tr>\n",
       "    <tr>\n",
       "      <th>658874</th>\n",
       "      <td>general</td>\n",
       "      <td>obreasts</td>\n",
       "      <td>https://safebooru.org/index.php?page=post&amp;s=li...</td>\n",
       "    </tr>\n",
       "    <tr>\n",
       "      <th>658875</th>\n",
       "      <td>character</td>\n",
       "      <td>darcmon</td>\n",
       "      <td>https://safebooru.org/index.php?page=post&amp;s=li...</td>\n",
       "    </tr>\n",
       "    <tr>\n",
       "      <th>658876</th>\n",
       "      <td>character</td>\n",
       "      <td>phecda</td>\n",
       "      <td>https://safebooru.org/index.php?page=post&amp;s=li...</td>\n",
       "    </tr>\n",
       "    <tr>\n",
       "      <th>658877</th>\n",
       "      <td>general</td>\n",
       "      <td>wster</td>\n",
       "      <td>https://safebooru.org/index.php?page=post&amp;s=li...</td>\n",
       "    </tr>\n",
       "    <tr>\n",
       "      <th>658878</th>\n",
       "      <td>general</td>\n",
       "      <td>lotus_98t</td>\n",
       "      <td>https://safebooru.org/index.php?page=post&amp;s=li...</td>\n",
       "    </tr>\n",
       "  </tbody>\n",
       "</table>\n",
       "<p>658879 rows × 3 columns</p>\n",
       "</div>"
      ],
      "text/plain": [
       "       Main_Category                     Name  \\\n",
       "0            general              sleepymausu   \n",
       "1             artist            hiro_(725611)   \n",
       "2            general                ind_(121)   \n",
       "3             artist    shouri_(harpy_killer)   \n",
       "4            general  jun_(pokemon)_(cosplay)   \n",
       "...              ...                      ...   \n",
       "658874       general                 obreasts   \n",
       "658875     character                  darcmon   \n",
       "658876     character                   phecda   \n",
       "658877       general                    wster   \n",
       "658878       general                lotus_98t   \n",
       "\n",
       "                                                     Link  \n",
       "0       https://safebooru.org/index.php?page=post&s=li...  \n",
       "1       https://safebooru.org/index.php?page=post&s=li...  \n",
       "2       https://safebooru.org/index.php?page=post&s=li...  \n",
       "3       https://safebooru.org/index.php?page=post&s=li...  \n",
       "4       https://safebooru.org/index.php?page=post&s=li...  \n",
       "...                                                   ...  \n",
       "658874  https://safebooru.org/index.php?page=post&s=li...  \n",
       "658875  https://safebooru.org/index.php?page=post&s=li...  \n",
       "658876  https://safebooru.org/index.php?page=post&s=li...  \n",
       "658877  https://safebooru.org/index.php?page=post&s=li...  \n",
       "658878  https://safebooru.org/index.php?page=post&s=li...  \n",
       "\n",
       "[658879 rows x 3 columns]"
      ]
     },
     "execution_count": 56,
     "metadata": {},
     "output_type": "execute_result"
    }
   ],
   "source": [
    "df = pd.DataFrame.from_dict(data)\n",
    "df"
   ]
  },
  {
   "cell_type": "code",
   "execution_count": 57,
   "id": "6071cdbb",
   "metadata": {},
   "outputs": [],
   "source": [
    "df.to_csv(\"../Datasets/safebooru_tags_links_2.csv\", index=False)"
   ]
  },
  {
   "cell_type": "code",
   "execution_count": null,
   "id": "3b274d95",
   "metadata": {},
   "outputs": [],
   "source": []
  }
 ],
 "metadata": {
  "kernelspec": {
   "display_name": "Python 3 (ipykernel)",
   "language": "python",
   "name": "python3"
  },
  "language_info": {
   "codemirror_mode": {
    "name": "ipython",
    "version": 3
   },
   "file_extension": ".py",
   "mimetype": "text/x-python",
   "name": "python",
   "nbconvert_exporter": "python",
   "pygments_lexer": "ipython3",
   "version": "3.10.9"
  }
 },
 "nbformat": 4,
 "nbformat_minor": 5
}
