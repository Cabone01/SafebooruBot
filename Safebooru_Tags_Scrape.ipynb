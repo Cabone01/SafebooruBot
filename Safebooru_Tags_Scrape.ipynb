{
 "cells": [
  {
   "cell_type": "code",
   "execution_count": 1,
   "id": "40703b44",
   "metadata": {},
   "outputs": [],
   "source": [
    "import time\n",
    "import numpy as np\n",
    "import pandas as pd\n",
    "from splinter import Browser\n",
    "from bs4 import BeautifulSoup\n",
    "from selenium import webdriver\n",
    "from selenium.webdriver.common.by import By\n",
    "from selenium.webdriver.chrome.service import Service\n",
    "from selenium.common.exceptions import TimeoutException\n",
    "from webdriver_manager.chrome import ChromeDriverManager\n",
    "from selenium.webdriver.support.wait import WebDriverWait\n",
    "from selenium.webdriver.common.action_chains import ActionChains\n",
    "from selenium.webdriver.support import expected_conditions as EC"
   ]
  },
  {
   "cell_type": "code",
   "execution_count": 2,
   "id": "c6ed8f87",
   "metadata": {},
   "outputs": [],
   "source": [
    "opt = webdriver.ChromeOptions()\n",
    "opt.add_argument(\"--incognito\")\n",
    "opt.add_argument(\"disable-infobars\")\n",
    "opt.add_argument(\"--disable-extensions\")\n",
    "opt.add_argument(\"--disable-gpu\")\n",
    "opt.add_argument(\"--disable-dev-shm-usage\")\n",
    "opt.add_argument(\"--no-sandbox\")\n",
    "user_agent = 'Mozilla/5.0 (Windows NT 10.0; Win64; x64) AppleWebKit/537.36 (KHTML, like Gecko) Chrome/83.0.4103.116 Safari/537.36'\n",
    "opt.add_argument(f'user-agent={user_agent}')\n",
    "opt.add_argument(\"--headless=new\")\n",
    "\n",
    "driver = webdriver.Chrome(options=opt)\n",
    "driver.get(\"https://safebooru.org/index.php?page=tags&s=list&pid=0\")\n",
    "wait = WebDriverWait(driver, 20)"
   ]
  },
  {
   "cell_type": "code",
   "execution_count": 3,
   "id": "5dbfeb82",
   "metadata": {},
   "outputs": [
    {
     "data": {
      "text/plain": [
       "<selenium.webdriver.remote.webelement.WebElement (session=\"9f420c035396f7f91c91da56c924157b\", element=\"f.F22C7162AB869CD056124B2008BFF586.d.B6FFC1E6B8647F86108BBFB26DD5A1B2.e.7\")>"
      ]
     },
     "execution_count": 3,
     "metadata": {},
     "output_type": "execute_result"
    }
   ],
   "source": [
    "wait.until(EC.visibility_of_element_located((By.CLASS_NAME, \"pagination\")))"
   ]
  },
  {
   "cell_type": "code",
   "execution_count": 4,
   "id": "06784476",
   "metadata": {},
   "outputs": [],
   "source": [
    "page = driver.page_source\n",
    "soup = BeautifulSoup(page, \"lxml\")"
   ]
  },
  {
   "cell_type": "code",
   "execution_count": 5,
   "id": "e6e24a75",
   "metadata": {},
   "outputs": [],
   "source": [
    "tag_table = soup.find(class_=\"highlightable\")"
   ]
  },
  {
   "cell_type": "code",
   "execution_count": 9,
   "id": "ac4e2ef1",
   "metadata": {},
   "outputs": [],
   "source": [
    "tags = tag_table.find_all(\"span\", class_=[\"tag-type-copyright\", \"tag-type-artist\", \"tag-type-general\", \"tag-type-character\", \"tag-type-metadata\"])#href=True\n",
    "#tags = tag_table.find_all(\"a\")"
   ]
  },
  {
   "cell_type": "code",
   "execution_count": 34,
   "id": "2b026bf4",
   "metadata": {},
   "outputs": [
    {
     "data": {
      "text/plain": [
       "'general'"
      ]
     },
     "execution_count": 34,
     "metadata": {},
     "output_type": "execute_result"
    }
   ],
   "source": [
    "one = tags[0]\n",
    "one[\"class\"][0][9:]#[21:-1]"
   ]
  },
  {
   "cell_type": "code",
   "execution_count": 8,
   "id": "be9660b0",
   "metadata": {},
   "outputs": [],
   "source": [
    "#button_location = driver.find_element(By.CLASS_NAME, \"pagination\")\n",
    "#button = button_location.find_element(By.XPATH, '//a[@alt=\"next\"]')\n",
    "#button.click()"
   ]
  },
  {
   "cell_type": "code",
   "execution_count": 9,
   "id": "b47b3865",
   "metadata": {},
   "outputs": [],
   "source": [
    "#button_location.text"
   ]
  },
  {
   "cell_type": "code",
   "execution_count": 10,
   "id": "00ed0f37",
   "metadata": {},
   "outputs": [],
   "source": [
    "#soup.find(alt=\"next\") != None"
   ]
  },
  {
   "cell_type": "code",
   "execution_count": 11,
   "id": "6991577f",
   "metadata": {},
   "outputs": [],
   "source": [
    "tags = []\n",
    "scrape = True\n",
    "\n",
    "while scrape:\n",
    "    try:\n",
    "        wait.until(EC.visibility_of_element_located((By.CLASS_NAME, \"pagination\")))\n",
    "        page = driver.page_source\n",
    "        soup = BeautifulSoup(page, \"lxml\")\n",
    "        tag_table = soup.find(class_=\"highlightable\")\n",
    "        tags += tag_table.find_all(\"span\", class_=[\"tag-type-copyright\", \"tag-type-artist\", \"tag-type-general\", \"tag-type-character\", \"tag-type-metadata\"])\n",
    "    \n",
    "        if soup.find(alt=\"next\") != None:\n",
    "            button_location = driver.find_element(By.CLASS_NAME, \"pagination\")\n",
    "            button = button_location.find_element(By.XPATH, '//a[@alt=\"next\"]')\n",
    "            button.click()\n",
    "        else:\n",
    "            scrape = False\n",
    "    except TimeoutException:\n",
    "        driver.refresh()"
   ]
  },
  {
   "cell_type": "code",
   "execution_count": 12,
   "id": "b0d0aa92",
   "metadata": {},
   "outputs": [
    {
     "data": {
      "text/plain": [
       "655914"
      ]
     },
     "execution_count": 12,
     "metadata": {},
     "output_type": "execute_result"
    }
   ],
   "source": [
    "len(tags)"
   ]
  },
  {
   "cell_type": "code",
   "execution_count": 13,
   "id": "074b8de3",
   "metadata": {},
   "outputs": [
    {
     "data": {
      "text/plain": [
       "655373"
      ]
     },
     "execution_count": 13,
     "metadata": {},
     "output_type": "execute_result"
    }
   ],
   "source": [
    "len(set(tags))"
   ]
  },
  {
   "cell_type": "code",
   "execution_count": 14,
   "id": "e71b1b08",
   "metadata": {},
   "outputs": [],
   "source": [
    "driver.close()"
   ]
  },
  {
   "cell_type": "code",
   "execution_count": 15,
   "id": "4f758e87",
   "metadata": {},
   "outputs": [],
   "source": [
    "nd_tags = list(set(tags))"
   ]
  },
  {
   "cell_type": "code",
   "execution_count": 16,
   "id": "13cba033",
   "metadata": {},
   "outputs": [],
   "source": [
    "url = 'https://safebooru.org'"
   ]
  },
  {
   "cell_type": "code",
   "execution_count": 23,
   "id": "ea29a963",
   "metadata": {},
   "outputs": [],
   "source": [
    "main_cat = []\n",
    "names = []\n",
    "links = []\n",
    "for i in nd_tags:\n",
    "    main_cat = i[\"class\"][0][9:]\n",
    "    get_ = i.find('a')['href'].strip().split('/')[-1]\n",
    "    link = \"{}/{}\".format(url, get_)\n",
    "    names.append(i.text)\n",
    "    links.append(link)"
   ]
  },
  {
   "cell_type": "code",
   "execution_count": 27,
   "id": "58421300",
   "metadata": {},
   "outputs": [],
   "source": [
    "data = {\"Name\": names, \"Link\": links}"
   ]
  },
  {
   "cell_type": "code",
   "execution_count": 28,
   "id": "2a48a877",
   "metadata": {},
   "outputs": [
    {
     "data": {
      "text/html": [
       "<div>\n",
       "<style scoped>\n",
       "    .dataframe tbody tr th:only-of-type {\n",
       "        vertical-align: middle;\n",
       "    }\n",
       "\n",
       "    .dataframe tbody tr th {\n",
       "        vertical-align: top;\n",
       "    }\n",
       "\n",
       "    .dataframe thead th {\n",
       "        text-align: right;\n",
       "    }\n",
       "</style>\n",
       "<table border=\"1\" class=\"dataframe\">\n",
       "  <thead>\n",
       "    <tr style=\"text-align: right;\">\n",
       "      <th></th>\n",
       "      <th>Name</th>\n",
       "      <th>Link</th>\n",
       "    </tr>\n",
       "  </thead>\n",
       "  <tbody>\n",
       "    <tr>\n",
       "      <th>0</th>\n",
       "      <td>mur_cielago_art</td>\n",
       "      <td>https://safebooru.org/index.php?page=post&amp;s=li...</td>\n",
       "    </tr>\n",
       "    <tr>\n",
       "      <th>1</th>\n",
       "      <td>godspeedyou</td>\n",
       "      <td>https://safebooru.org/index.php?page=post&amp;s=li...</td>\n",
       "    </tr>\n",
       "    <tr>\n",
       "      <th>2</th>\n",
       "      <td>sleeve_lift</td>\n",
       "      <td>https://safebooru.org/index.php?page=post&amp;s=li...</td>\n",
       "    </tr>\n",
       "    <tr>\n",
       "      <th>3</th>\n",
       "      <td>donkey_ears</td>\n",
       "      <td>https://safebooru.org/index.php?page=post&amp;s=li...</td>\n",
       "    </tr>\n",
       "    <tr>\n",
       "      <th>4</th>\n",
       "      <td>s_minoru</td>\n",
       "      <td>https://safebooru.org/index.php?page=post&amp;s=li...</td>\n",
       "    </tr>\n",
       "  </tbody>\n",
       "</table>\n",
       "</div>"
      ],
      "text/plain": [
       "              Name                                               Link\n",
       "0  mur_cielago_art  https://safebooru.org/index.php?page=post&s=li...\n",
       "1      godspeedyou  https://safebooru.org/index.php?page=post&s=li...\n",
       "2      sleeve_lift  https://safebooru.org/index.php?page=post&s=li...\n",
       "3      donkey_ears  https://safebooru.org/index.php?page=post&s=li...\n",
       "4         s_minoru  https://safebooru.org/index.php?page=post&s=li..."
      ]
     },
     "execution_count": 28,
     "metadata": {},
     "output_type": "execute_result"
    }
   ],
   "source": [
    "df = pd.DataFrame.from_dict(data)\n",
    "df.head()"
   ]
  },
  {
   "cell_type": "code",
   "execution_count": 31,
   "id": "6071cdbb",
   "metadata": {},
   "outputs": [],
   "source": [
    "df.to_csv(\"Datasets/safebooru_tags_links.csv\", index=False)"
   ]
  },
  {
   "cell_type": "code",
   "execution_count": null,
   "id": "3b274d95",
   "metadata": {},
   "outputs": [],
   "source": [
    "# 36 letters for max length to check for one of the four types"
   ]
  }
 ],
 "metadata": {
  "kernelspec": {
   "display_name": "Python 3 (ipykernel)",
   "language": "python",
   "name": "python3"
  },
  "language_info": {
   "codemirror_mode": {
    "name": "ipython",
    "version": 3
   },
   "file_extension": ".py",
   "mimetype": "text/x-python",
   "name": "python",
   "nbconvert_exporter": "python",
   "pygments_lexer": "ipython3",
   "version": "3.10.9"
  }
 },
 "nbformat": 4,
 "nbformat_minor": 5
}
