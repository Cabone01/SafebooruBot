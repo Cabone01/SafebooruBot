{
 "cells": [
  {
   "cell_type": "code",
   "execution_count": 1,
   "id": "cac5277a",
   "metadata": {},
   "outputs": [],
   "source": [
    "import os\n",
    "import urllib.request\n",
    "from selenium import webdriver\n",
    "from selenium.webdriver.common.by import By\n",
    "from selenium.webdriver.support.wait import WebDriverWait\n",
    "from selenium.common.exceptions import NoSuchElementException\n",
    "from selenium.webdriver.support import expected_conditions as EC\n",
    "\n",
    "import mysql.connector\n",
    "from important import ep, user, ps, server"
   ]
  },
  {
   "cell_type": "code",
   "execution_count": 10,
   "id": "1336e268",
   "metadata": {},
   "outputs": [
    {
     "name": "stdout",
     "output_type": "stream",
     "text": [
      "['channel_channel_1099140911616770181', 'settings']\n"
     ]
    }
   ],
   "source": [
    "cnx = mysql.connector.connect(\n",
    "    host=ep,\n",
    "    user=user,\n",
    "    password=ps\n",
    "    )\n",
    "\n",
    "if cnx.is_connected():\n",
    "    cursor = cnx.cursor()    \n",
    "    cursor.execute(f\"USE server_{server};\")\n",
    "    cursor.execute('SHOW TABLES')\n",
    "    table_names = [table[0] for table in cursor.fetchall()] \n",
    "    print(table_names)\n",
    "    cursor.close()\n",
    "cnx.close()"
   ]
  },
  {
   "cell_type": "code",
   "execution_count": 5,
   "id": "9e77ee1a",
   "metadata": {},
   "outputs": [
    {
     "name": "stdout",
     "output_type": "stream",
     "text": [
      "Downloading image https://safebooru.org//images/4619/1078e34ef79c6fff5b0e743e1d22122c.jpeg?4825104...\n"
     ]
    }
   ],
   "source": [
    "opt = webdriver.ChromeOptions()\n",
    "opt.add_argument(\"--incognito\")\n",
    "opt.add_argument(\"disable-infobars\")\n",
    "opt.add_argument(\"--disable-extensions\")\n",
    "opt.add_argument(\"--disable-gpu\")\n",
    "opt.add_argument(\"--disable-dev-shm-usage\")\n",
    "opt.add_argument(\"--no-sandbox\")\n",
    "driver = webdriver.Chrome(options=opt)\n",
    "\n",
    "\n",
    "driver.get('https://safebooru.org/index.php?page=post&s=list&tags=all')\n",
    "wait = WebDriverWait(driver, 20)\n",
    "\n",
    "wait.until(EC.visibility_of_element_located((By.ID, 'post-list')))\n",
    "post_list = driver.find_element(By.ID, 'post-list')\n",
    "post = post_list.find_element(By.XPATH, f'div[2]/div[1]/span[1]/a')\n",
    "post.click()\n",
    "\n",
    "wait.until(EC.visibility_of_element_located((By.ID, 'right-col')))\n",
    "img_spot = driver.find_element(By.ID, 'right-col')\n",
    "img = img_spot.find_element(By.XPATH, f'div/img')\n",
    "img_URL = img.get_attribute('src')\n",
    "\n",
    "print('Downloading image %s...' % (img_URL))\n",
    "urllib.request.urlretrieve(img_URL, os.getcwd() + '/img1.jpg')"
   ]
  },
  {
   "cell_type": "code",
   "execution_count": null,
   "id": "2c326d5e",
   "metadata": {},
   "outputs": [],
   "source": []
  }
 ],
 "metadata": {
  "kernelspec": {
   "display_name": "Python 3 (ipykernel)",
   "language": "python",
   "name": "python3"
  },
  "language_info": {
   "codemirror_mode": {
    "name": "ipython",
    "version": 3
   },
   "file_extension": ".py",
   "mimetype": "text/x-python",
   "name": "python",
   "nbconvert_exporter": "python",
   "pygments_lexer": "ipython3",
   "version": "3.10.9"
  }
 },
 "nbformat": 4,
 "nbformat_minor": 5
}
