{
 "cells": [
  {
   "cell_type": "code",
   "execution_count": 1,
   "id": "cac5277a",
   "metadata": {},
   "outputs": [],
   "source": [
    "import os\n",
    "import urllib.request\n",
    "import firebase_admin\n",
    "from selenium import webdriver\n",
    "from firebase_admin import credentials\n",
    "from firebase_admin import firestore_async\n",
    "from selenium.webdriver.common.by import By\n",
    "from selenium.webdriver.support.wait import WebDriverWait\n",
    "from selenium.common.exceptions import NoSuchElementException\n",
    "from selenium.webdriver.support import expected_conditions as EC"
   ]
  },
  {
   "cell_type": "code",
   "execution_count": 2,
   "id": "59195671",
   "metadata": {},
   "outputs": [],
   "source": [
    "cred = credentials.Certificate('serviceAccountKey.json')\n",
    "firebase_admin.initialize_app(cred)\n",
    "db = firestore_async.client()"
   ]
  },
  {
   "cell_type": "code",
   "execution_count": 6,
   "id": "9e77ee1a",
   "metadata": {},
   "outputs": [
    {
     "name": "stdout",
     "output_type": "stream",
     "text": [
      "Downloading image https://safebooru.org//samples/4190/sample_4f124aa2cc5fd0afc6eb0b415d2205830715c4cd.jpg?4376108...\n"
     ]
    }
   ],
   "source": [
    "documts = db.collection('character_threads')\n",
    "doc_ref = documts.stream()\n",
    "\n",
    "opt = webdriver.ChromeOptions()\n",
    "opt.add_argument(\"--incognito\")\n",
    "opt.add_argument(\"disable-infobars\")\n",
    "opt.add_argument(\"--disable-extensions\")\n",
    "opt.add_argument(\"--disable-gpu\")\n",
    "opt.add_argument(\"--disable-dev-shm-usage\")\n",
    "opt.add_argument(\"--no-sandbox\")\n",
    "driver = webdriver.Chrome(options=opt)\n",
    "\n",
    "async for doc in doc_ref:\n",
    "    d = doc.to_dict()\n",
    "    \n",
    "    driver.get(d.get('link'))\n",
    "    wait = WebDriverWait(driver, 20)\n",
    "    \n",
    "    wait.until(EC.visibility_of_element_located((By.ID, 'post-list')))\n",
    "    post_list = driver.find_element(By.ID, 'post-list')\n",
    "    post = post_list.find_element(By.XPATH, f'div[2]/div[1]/span[1]/a')\n",
    "    post.click()\n",
    "    \n",
    "    wait.until(EC.visibility_of_element_located((By.ID, 'right-col')))\n",
    "    img_spot = driver.find_element(By.ID, 'right-col')\n",
    "    img = img_spot.find_element(By.XPATH, f'div/img')\n",
    "    img_URL = img.get_attribute('src')\n",
    "    if img_URL == d.get('image'):\n",
    "        print('Image already posted')\n",
    "    else:\n",
    "        await documts.document(doc.id).update({'image': img_URL})\n",
    "        print('Downloading image %s...' % (img_URL))\n",
    "        urllib.request.urlretrieve(img_URL, os.getcwd() + '/img1.jpg')"
   ]
  },
  {
   "cell_type": "code",
   "execution_count": null,
   "id": "2c326d5e",
   "metadata": {},
   "outputs": [],
   "source": []
  }
 ],
 "metadata": {
  "kernelspec": {
   "display_name": "Python 3 (ipykernel)",
   "language": "python",
   "name": "python3"
  },
  "language_info": {
   "codemirror_mode": {
    "name": "ipython",
    "version": 3
   },
   "file_extension": ".py",
   "mimetype": "text/x-python",
   "name": "python",
   "nbconvert_exporter": "python",
   "pygments_lexer": "ipython3",
   "version": "3.10.9"
  }
 },
 "nbformat": 4,
 "nbformat_minor": 5
}
