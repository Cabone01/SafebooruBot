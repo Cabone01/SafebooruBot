{
 "cells": [
  {
   "cell_type": "code",
   "execution_count": 1,
   "id": "12bf2950",
   "metadata": {},
   "outputs": [],
   "source": [
    "import numpy as np\n",
    "import pandas as pd"
   ]
  },
  {
   "cell_type": "code",
   "execution_count": 4,
   "id": "a868bac7",
   "metadata": {},
   "outputs": [
    {
     "data": {
      "text/html": [
       "<div>\n",
       "<style scoped>\n",
       "    .dataframe tbody tr th:only-of-type {\n",
       "        vertical-align: middle;\n",
       "    }\n",
       "\n",
       "    .dataframe tbody tr th {\n",
       "        vertical-align: top;\n",
       "    }\n",
       "\n",
       "    .dataframe thead th {\n",
       "        text-align: right;\n",
       "    }\n",
       "</style>\n",
       "<table border=\"1\" class=\"dataframe\">\n",
       "  <thead>\n",
       "    <tr style=\"text-align: right;\">\n",
       "      <th></th>\n",
       "      <th>Name</th>\n",
       "      <th>Link</th>\n",
       "    </tr>\n",
       "  </thead>\n",
       "  <tbody>\n",
       "    <tr>\n",
       "      <th>0</th>\n",
       "      <td>mur_cielago_art</td>\n",
       "      <td>https://safebooru.org/index.php?page=post&amp;s=li...</td>\n",
       "    </tr>\n",
       "    <tr>\n",
       "      <th>1</th>\n",
       "      <td>godspeedyou</td>\n",
       "      <td>https://safebooru.org/index.php?page=post&amp;s=li...</td>\n",
       "    </tr>\n",
       "    <tr>\n",
       "      <th>2</th>\n",
       "      <td>sleeve_lift</td>\n",
       "      <td>https://safebooru.org/index.php?page=post&amp;s=li...</td>\n",
       "    </tr>\n",
       "    <tr>\n",
       "      <th>3</th>\n",
       "      <td>donkey_ears</td>\n",
       "      <td>https://safebooru.org/index.php?page=post&amp;s=li...</td>\n",
       "    </tr>\n",
       "    <tr>\n",
       "      <th>4</th>\n",
       "      <td>s_minoru</td>\n",
       "      <td>https://safebooru.org/index.php?page=post&amp;s=li...</td>\n",
       "    </tr>\n",
       "  </tbody>\n",
       "</table>\n",
       "</div>"
      ],
      "text/plain": [
       "              Name                                               Link\n",
       "0  mur_cielago_art  https://safebooru.org/index.php?page=post&s=li...\n",
       "1      godspeedyou  https://safebooru.org/index.php?page=post&s=li...\n",
       "2      sleeve_lift  https://safebooru.org/index.php?page=post&s=li...\n",
       "3      donkey_ears  https://safebooru.org/index.php?page=post&s=li...\n",
       "4         s_minoru  https://safebooru.org/index.php?page=post&s=li..."
      ]
     },
     "execution_count": 4,
     "metadata": {},
     "output_type": "execute_result"
    }
   ],
   "source": [
    "df = pd.read_csv(\"Datasets/safebooru_tags_links.csv\")\n",
    "df.head()"
   ]
  },
  {
   "cell_type": "code",
   "execution_count": null,
   "id": "277d7fc7",
   "metadata": {},
   "outputs": [],
   "source": [
    "location = 0\n",
    "max_amt = 0\n",
    "for i in df[1:]:\n",
    "    if"
   ]
  },
  {
   "cell_type": "code",
   "execution_count": null,
   "id": "e2ff45ca",
   "metadata": {},
   "outputs": [],
   "source": [
    "# check amount of _ in name and in parenthesis seperate"
   ]
  },
  {
   "cell_type": "code",
   "execution_count": 22,
   "id": "be227826",
   "metadata": {},
   "outputs": [
    {
     "data": {
      "text/plain": [
       "2"
      ]
     },
     "execution_count": 22,
     "metadata": {},
     "output_type": "execute_result"
    }
   ],
   "source": [
    "df[\"Name\"][0].count(\"_\")"
   ]
  },
  {
   "cell_type": "code",
   "execution_count": 101,
   "id": "a479deb3",
   "metadata": {},
   "outputs": [],
   "source": [
    "x = df[\"Name\"][df[\"Name\"].str.contains(\"[())]\", na=False)][9:10]"
   ]
  },
  {
   "cell_type": "code",
   "execution_count": 105,
   "id": "9c68d7d3",
   "metadata": {
    "scrolled": true
   },
   "outputs": [
    {
     "data": {
      "text/plain": [
       "59    ushiwakamaru_(swimsuit_assassin)_(first_ascens...\n",
       "Name: Name, dtype: object"
      ]
     },
     "execution_count": 105,
     "metadata": {},
     "output_type": "execute_result"
    }
   ],
   "source": [
    "x"
   ]
  },
  {
   "cell_type": "code",
   "execution_count": 109,
   "id": "9bea6f7b",
   "metadata": {},
   "outputs": [
    {
     "name": "stdout",
     "output_type": "stream",
     "text": [
      "ushiwakamaru_(swimsuit_assassin)_(first_ascension)_(fate)\n",
      "['swimsuit_assassin', 'first_ascension', 'fate']\n"
     ]
    }
   ],
   "source": [
    "for i in x:\n",
    "    #print(i[i.index(\"()\"):])\n",
    "    print(i)\n",
    "    if \"(\" in i:\n",
    "        cat = i[i.index(\"(\"):]\n",
    "        if cat.count(\"(\") >= 2:\n",
    "            print(cat.strip(\"()\").split(\")_(\"))\n",
    "        else:\n",
    "            print(cat.strip(\"()\"))\n",
    "    else:\n",
    "        "
   ]
  },
  {
   "cell_type": "code",
   "execution_count": 58,
   "id": "e88168f2",
   "metadata": {},
   "outputs": [],
   "source": [
    "n =\"words\""
   ]
  },
  {
   "cell_type": "code",
   "execution_count": 59,
   "id": "ab553139",
   "metadata": {},
   "outputs": [
    {
     "ename": "ValueError",
     "evalue": "substring not found",
     "output_type": "error",
     "traceback": [
      "\u001b[1;31m---------------------------------------------------------------------------\u001b[0m",
      "\u001b[1;31mValueError\u001b[0m                                Traceback (most recent call last)",
      "Cell \u001b[1;32mIn[59], line 1\u001b[0m\n\u001b[1;32m----> 1\u001b[0m \u001b[38;5;28mprint\u001b[39m(n[\u001b[43mn\u001b[49m\u001b[38;5;241;43m.\u001b[39;49m\u001b[43mindex\u001b[49m\u001b[43m(\u001b[49m\u001b[38;5;124;43m\"\u001b[39;49m\u001b[38;5;124;43m(\u001b[39;49m\u001b[38;5;124;43m\"\u001b[39;49m\u001b[43m)\u001b[49m:])\n",
      "\u001b[1;31mValueError\u001b[0m: substring not found"
     ]
    }
   ],
   "source": [
    "print(n[n.index(\"(\"):])"
   ]
  },
  {
   "cell_type": "code",
   "execution_count": null,
   "id": "fc6ee84f",
   "metadata": {},
   "outputs": [],
   "source": []
  }
 ],
 "metadata": {
  "kernelspec": {
   "display_name": "Python 3 (ipykernel)",
   "language": "python",
   "name": "python3"
  },
  "language_info": {
   "codemirror_mode": {
    "name": "ipython",
    "version": 3
   },
   "file_extension": ".py",
   "mimetype": "text/x-python",
   "name": "python",
   "nbconvert_exporter": "python",
   "pygments_lexer": "ipython3",
   "version": "3.10.9"
  }
 },
 "nbformat": 4,
 "nbformat_minor": 5
}
