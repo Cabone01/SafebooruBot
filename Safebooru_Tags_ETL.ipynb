{
 "cells": [
  {
   "cell_type": "code",
   "execution_count": 1,
   "id": "12bf2950",
   "metadata": {},
   "outputs": [],
   "source": [
    "import pandas as pd"
   ]
  },
  {
   "cell_type": "code",
   "execution_count": 2,
   "id": "a868bac7",
   "metadata": {},
   "outputs": [
    {
     "data": {
      "text/html": [
       "<div>\n",
       "<style scoped>\n",
       "    .dataframe tbody tr th:only-of-type {\n",
       "        vertical-align: middle;\n",
       "    }\n",
       "\n",
       "    .dataframe tbody tr th {\n",
       "        vertical-align: top;\n",
       "    }\n",
       "\n",
       "    .dataframe thead th {\n",
       "        text-align: right;\n",
       "    }\n",
       "</style>\n",
       "<table border=\"1\" class=\"dataframe\">\n",
       "  <thead>\n",
       "    <tr style=\"text-align: right;\">\n",
       "      <th></th>\n",
       "      <th>Main_Category</th>\n",
       "      <th>Name</th>\n",
       "      <th>Link</th>\n",
       "    </tr>\n",
       "  </thead>\n",
       "  <tbody>\n",
       "    <tr>\n",
       "      <th>0</th>\n",
       "      <td>general</td>\n",
       "      <td>sleepymausu</td>\n",
       "      <td>https://safebooru.org/index.php?page=post&amp;s=li...</td>\n",
       "    </tr>\n",
       "    <tr>\n",
       "      <th>1</th>\n",
       "      <td>artist</td>\n",
       "      <td>hiro_(725611)</td>\n",
       "      <td>https://safebooru.org/index.php?page=post&amp;s=li...</td>\n",
       "    </tr>\n",
       "    <tr>\n",
       "      <th>2</th>\n",
       "      <td>general</td>\n",
       "      <td>ind_(121)</td>\n",
       "      <td>https://safebooru.org/index.php?page=post&amp;s=li...</td>\n",
       "    </tr>\n",
       "    <tr>\n",
       "      <th>3</th>\n",
       "      <td>artist</td>\n",
       "      <td>shouri_(harpy_killer)</td>\n",
       "      <td>https://safebooru.org/index.php?page=post&amp;s=li...</td>\n",
       "    </tr>\n",
       "    <tr>\n",
       "      <th>4</th>\n",
       "      <td>general</td>\n",
       "      <td>jun_(pokemon)_(cosplay)</td>\n",
       "      <td>https://safebooru.org/index.php?page=post&amp;s=li...</td>\n",
       "    </tr>\n",
       "  </tbody>\n",
       "</table>\n",
       "</div>"
      ],
      "text/plain": [
       "  Main_Category                     Name  \\\n",
       "0       general              sleepymausu   \n",
       "1        artist            hiro_(725611)   \n",
       "2       general                ind_(121)   \n",
       "3        artist    shouri_(harpy_killer)   \n",
       "4       general  jun_(pokemon)_(cosplay)   \n",
       "\n",
       "                                                Link  \n",
       "0  https://safebooru.org/index.php?page=post&s=li...  \n",
       "1  https://safebooru.org/index.php?page=post&s=li...  \n",
       "2  https://safebooru.org/index.php?page=post&s=li...  \n",
       "3  https://safebooru.org/index.php?page=post&s=li...  \n",
       "4  https://safebooru.org/index.php?page=post&s=li...  "
      ]
     },
     "execution_count": 2,
     "metadata": {},
     "output_type": "execute_result"
    }
   ],
   "source": [
    "df = pd.read_csv(\"Datasets/safebooru_tags_links_2.csv\")\n",
    "df.head()"
   ]
  },
  {
   "cell_type": "code",
   "execution_count": 3,
   "id": "c270df40",
   "metadata": {},
   "outputs": [],
   "source": [
    "df[\"Name\"].fillna(\"\", inplace=True)"
   ]
  },
  {
   "cell_type": "code",
   "execution_count": 4,
   "id": "277d7fc7",
   "metadata": {},
   "outputs": [],
   "source": [
    "#location = 0\n",
    "#max_amt = 0\n",
    "#for i in df[1:]:\n",
    "#    if"
   ]
  },
  {
   "cell_type": "code",
   "execution_count": 5,
   "id": "e2ff45ca",
   "metadata": {},
   "outputs": [],
   "source": [
    "# check amount of _ in name and in parenthesis seperate"
   ]
  },
  {
   "cell_type": "code",
   "execution_count": 6,
   "id": "be227826",
   "metadata": {},
   "outputs": [
    {
     "data": {
      "text/plain": [
       "0"
      ]
     },
     "execution_count": 6,
     "metadata": {},
     "output_type": "execute_result"
    }
   ],
   "source": [
    "df[\"Name\"][0].count(\"_\")"
   ]
  },
  {
   "cell_type": "code",
   "execution_count": 7,
   "id": "a479deb3",
   "metadata": {},
   "outputs": [],
   "source": [
    "x = df[\"Name\"]#[df[\"Name\"].str.contains(\"[(]\", na=False)]#[9:10]"
   ]
  },
  {
   "cell_type": "code",
   "execution_count": 8,
   "id": "9c68d7d3",
   "metadata": {
    "scrolled": true
   },
   "outputs": [
    {
     "data": {
      "text/plain": [
       "0                     sleepymausu\n",
       "1                   hiro_(725611)\n",
       "2                       ind_(121)\n",
       "3           shouri_(harpy_killer)\n",
       "4         jun_(pokemon)_(cosplay)\n",
       "                   ...           \n",
       "658874                   obreasts\n",
       "658875                    darcmon\n",
       "658876                     phecda\n",
       "658877                      wster\n",
       "658878                  lotus_98t\n",
       "Name: Name, Length: 658879, dtype: object"
      ]
     },
     "execution_count": 8,
     "metadata": {},
     "output_type": "execute_result"
    }
   ],
   "source": [
    "x"
   ]
  },
  {
   "cell_type": "code",
   "execution_count": 9,
   "id": "9bea6f7b",
   "metadata": {},
   "outputs": [],
   "source": [
    "name = []\n",
    "categories = []\n",
    "\n",
    "#l = 0\n",
    "for i in x:\n",
    "    #print(i[i.index(\"()\"):])\n",
    "    #print(i)\n",
    "    #print(l)\n",
    "    if \"_(\" in i:\n",
    "        cat = i[i.index(\"(\"):]\n",
    "        name.append(i[:i.index(\"(\") - 1].split(\"_\"))\n",
    "        if cat.count(\"(\") >= 2:\n",
    "            categories.append(cat.strip(\"()\").split(\")_(\"))\n",
    "            \n",
    "        else:\n",
    "            #categories.append(cat.strip(\"()\"))\n",
    "            categories.append(cat.strip(\"()\").split())\n",
    "    else:\n",
    "        name.append(i.split(\"_\"))\n",
    "        categories.append([None])\n",
    "    #l += 1"
   ]
  },
  {
   "cell_type": "code",
   "execution_count": 10,
   "id": "fa79b6b6",
   "metadata": {},
   "outputs": [],
   "source": [
    "#print(df[\"Link\"][241120])"
   ]
  },
  {
   "cell_type": "code",
   "execution_count": 11,
   "id": "e88168f2",
   "metadata": {},
   "outputs": [],
   "source": [
    "#n =\"words\""
   ]
  },
  {
   "cell_type": "code",
   "execution_count": 12,
   "id": "ab553139",
   "metadata": {},
   "outputs": [],
   "source": [
    "#print(n[n.index(\"(\"):])"
   ]
  },
  {
   "cell_type": "code",
   "execution_count": 13,
   "id": "b0ec2bb9",
   "metadata": {},
   "outputs": [
    {
     "data": {
      "text/plain": [
       "25"
      ]
     },
     "execution_count": 13,
     "metadata": {},
     "output_type": "execute_result"
    }
   ],
   "source": [
    "max_name_len = max([len(i) for i in name])\n",
    "max_name_len"
   ]
  },
  {
   "cell_type": "code",
   "execution_count": 14,
   "id": "402c3e1d",
   "metadata": {},
   "outputs": [
    {
     "data": {
      "text/plain": [
       "[['to',\n",
       "  'aru',\n",
       "  'onna',\n",
       "  'senshi',\n",
       "  'no',\n",
       "  'shuudan',\n",
       "  'mensetsu',\n",
       "  '-',\n",
       "  'onna',\n",
       "  'senshi',\n",
       "  'toshite',\n",
       "  'orc',\n",
       "  'ya',\n",
       "  'hydra',\n",
       "  'to',\n",
       "  'tatakatta',\n",
       "  'keiken',\n",
       "  'wo',\n",
       "  'onsha',\n",
       "  'de',\n",
       "  'ikaseru',\n",
       "  'to',\n",
       "  'omoi',\n",
       "  'shibou',\n",
       "  'itashimashita-']]"
      ]
     },
     "execution_count": 14,
     "metadata": {},
     "output_type": "execute_result"
    }
   ],
   "source": [
    "[i for i in name if len(i) == 25]"
   ]
  },
  {
   "cell_type": "code",
   "execution_count": 15,
   "id": "efe88eeb",
   "metadata": {},
   "outputs": [],
   "source": [
    "for i in name:\n",
    "    if len(i) < max_name_len:\n",
    "        i += ([None] * (max_name_len - len(i)))"
   ]
  },
  {
   "cell_type": "code",
   "execution_count": 16,
   "id": "6e4da1ac",
   "metadata": {},
   "outputs": [],
   "source": [
    "#name[:1]"
   ]
  },
  {
   "cell_type": "code",
   "execution_count": 17,
   "id": "6e49d64f",
   "metadata": {},
   "outputs": [],
   "source": [
    "#max([len(i) for i in categories])"
   ]
  },
  {
   "cell_type": "code",
   "execution_count": 18,
   "id": "2c081164",
   "metadata": {},
   "outputs": [],
   "source": [
    "#[i for i in categories if len(i) == 112]"
   ]
  },
  {
   "cell_type": "code",
   "execution_count": 19,
   "id": "baa14481",
   "metadata": {},
   "outputs": [],
   "source": [
    "#categories.index(\"康泰系列)锚_符号黑色长裤黑色水手领子黑色裙子牛仔射击平顶帽头发之间_手_臀部帽子高，坎泰收集长发杂乱的头发领巾连裤袜褶皱？裙子紫色头发红色_领口水手_领口学校的制服丝巾简单的背景。裙子沾沾自喜站着星星背景推特_用户名紫眼睛\")"
   ]
  },
  {
   "cell_type": "code",
   "execution_count": 20,
   "id": "62d07b3e",
   "metadata": {},
   "outputs": [],
   "source": [
    "#type(categories[9])"
   ]
  },
  {
   "cell_type": "code",
   "execution_count": 21,
   "id": "db74ea26",
   "metadata": {},
   "outputs": [],
   "source": [
    "#max([len(i) for i in categories if type(i) == list])"
   ]
  },
  {
   "cell_type": "code",
   "execution_count": 22,
   "id": "39bf3946",
   "metadata": {},
   "outputs": [
    {
     "data": {
      "text/plain": [
       "4"
      ]
     },
     "execution_count": 22,
     "metadata": {},
     "output_type": "execute_result"
    }
   ],
   "source": [
    "max_cat_len = max([len(i) for i in categories])\n",
    "max_cat_len"
   ]
  },
  {
   "cell_type": "code",
   "execution_count": 23,
   "id": "90ded626",
   "metadata": {},
   "outputs": [
    {
     "data": {
      "text/plain": [
       "[['swimsuit', 'second_acension', 'fate', 'cosplay'],\n",
       " ['avenger', 'third_ascension', 'fate', 'cosplay']]"
      ]
     },
     "execution_count": 23,
     "metadata": {},
     "output_type": "execute_result"
    }
   ],
   "source": [
    "[i for i in categories if len(i) == 4]"
   ]
  },
  {
   "cell_type": "code",
   "execution_count": 24,
   "id": "e0565531",
   "metadata": {},
   "outputs": [],
   "source": [
    "for i in categories:\n",
    "    if len(i) < max_cat_len:\n",
    "        i += ([None] * (max_cat_len - len(i)))"
   ]
  },
  {
   "cell_type": "code",
   "execution_count": 25,
   "id": "3feedd0e",
   "metadata": {},
   "outputs": [],
   "source": [
    "name_1 = [i[0] for i in name]\n",
    "name_2 = [i[1] for i in name]\n",
    "name_3 = [i[2] for i in name]\n",
    "name_4 = [i[3] for i in name]\n",
    "name_5 = [i[4] for i in name]\n",
    "name_6 = [i[5] for i in name]\n",
    "name_7 = [i[6] for i in name]\n",
    "name_8 = [i[7] for i in name]\n",
    "name_9 = [i[8] for i in name]\n",
    "name_10 = [i[9] for i in name]\n",
    "name_11 = [i[10] for i in name]\n",
    "name_12 = [i[11] for i in name]\n",
    "name_13 = [i[12] for i in name]\n",
    "name_14 = [i[13] for i in name]\n",
    "name_15 = [i[14] for i in name]\n",
    "name_16 = [i[15] for i in name]\n",
    "name_17 = [i[16] for i in name]\n",
    "name_18 = [i[17] for i in name]\n",
    "name_19 = [i[18] for i in name]\n",
    "name_20 = [i[19] for i in name]\n",
    "name_21 = [i[20] for i in name]\n",
    "name_22 = [i[21] for i in name]\n",
    "name_23 = [i[22] for i in name]\n",
    "name_24 = [i[23] for i in name]\n",
    "name_25 = [i[24] for i in name]"
   ]
  },
  {
   "cell_type": "code",
   "execution_count": 26,
   "id": "3523bc87",
   "metadata": {},
   "outputs": [],
   "source": [
    "category_1 = [i[0] for i in categories]\n",
    "category_2 = [i[1] for i in categories]\n",
    "category_3 = [i[2] for i in categories]\n",
    "category_4 = [i[3] for i in categories]"
   ]
  },
  {
   "cell_type": "code",
   "execution_count": 27,
   "id": "46596b51",
   "metadata": {},
   "outputs": [],
   "source": [
    "main_cat = df[\"Main_Category\"].to_list()\n",
    "links = df[\"Link\"].to_list()"
   ]
  },
  {
   "cell_type": "code",
   "execution_count": 28,
   "id": "4bb1d1f7",
   "metadata": {},
   "outputs": [],
   "source": [
    "data = {\"Main_Category\": main_cat, \"Name_1\": name_1, \"Name_2\": name_2, \"Name_3\": name_3, \"Name_4\": name_4, \n",
    "        \"Name_5\": name_5, \"Name_6\": name_6, \"Name_7\": name_7, \"Name_8\": name_8,\n",
    "        \"Name_9\": name_9, \"Name_10\": name_10, \"Name_11\": name_11, \"Name_12\": name_12,\n",
    "        \"Name_13\": name_13, \"Name_14\": name_14, \"Name_15\": name_15, \"Name_16\": name_16,\n",
    "        \"Name_17\": name_17, \"Name_18\": name_18, \"Name_19\": name_19, \"Name_20\": name_20,\n",
    "        \"Name_21\": name_21, \"Name_22\": name_22, \"Name_23\": name_23, \"Name_24\": name_24,\n",
    "        \"Category_1\": category_1, \"Category_2\": category_2, \n",
    "        \"Category_3\": category_3, \"Category_4\": category_4,\n",
    "        \"Link\": links}"
   ]
  },
  {
   "cell_type": "code",
   "execution_count": 29,
   "id": "3f8e8225",
   "metadata": {},
   "outputs": [
    {
     "data": {
      "text/html": [
       "<div>\n",
       "<style scoped>\n",
       "    .dataframe tbody tr th:only-of-type {\n",
       "        vertical-align: middle;\n",
       "    }\n",
       "\n",
       "    .dataframe tbody tr th {\n",
       "        vertical-align: top;\n",
       "    }\n",
       "\n",
       "    .dataframe thead th {\n",
       "        text-align: right;\n",
       "    }\n",
       "</style>\n",
       "<table border=\"1\" class=\"dataframe\">\n",
       "  <thead>\n",
       "    <tr style=\"text-align: right;\">\n",
       "      <th></th>\n",
       "      <th>Main_Category</th>\n",
       "      <th>Name_1</th>\n",
       "      <th>Name_2</th>\n",
       "      <th>Name_3</th>\n",
       "      <th>Name_4</th>\n",
       "      <th>Name_5</th>\n",
       "      <th>Name_6</th>\n",
       "      <th>Name_7</th>\n",
       "      <th>Name_8</th>\n",
       "      <th>Name_9</th>\n",
       "      <th>...</th>\n",
       "      <th>Name_20</th>\n",
       "      <th>Name_21</th>\n",
       "      <th>Name_22</th>\n",
       "      <th>Name_23</th>\n",
       "      <th>Name_24</th>\n",
       "      <th>Category_1</th>\n",
       "      <th>Category_2</th>\n",
       "      <th>Category_3</th>\n",
       "      <th>Category_4</th>\n",
       "      <th>Link</th>\n",
       "    </tr>\n",
       "  </thead>\n",
       "  <tbody>\n",
       "    <tr>\n",
       "      <th>0</th>\n",
       "      <td>general</td>\n",
       "      <td>sleepymausu</td>\n",
       "      <td>None</td>\n",
       "      <td>None</td>\n",
       "      <td>None</td>\n",
       "      <td>None</td>\n",
       "      <td>None</td>\n",
       "      <td>None</td>\n",
       "      <td>None</td>\n",
       "      <td>None</td>\n",
       "      <td>...</td>\n",
       "      <td>None</td>\n",
       "      <td>None</td>\n",
       "      <td>None</td>\n",
       "      <td>None</td>\n",
       "      <td>None</td>\n",
       "      <td>None</td>\n",
       "      <td>None</td>\n",
       "      <td>None</td>\n",
       "      <td>None</td>\n",
       "      <td>https://safebooru.org/index.php?page=post&amp;s=li...</td>\n",
       "    </tr>\n",
       "    <tr>\n",
       "      <th>1</th>\n",
       "      <td>artist</td>\n",
       "      <td>hiro</td>\n",
       "      <td>None</td>\n",
       "      <td>None</td>\n",
       "      <td>None</td>\n",
       "      <td>None</td>\n",
       "      <td>None</td>\n",
       "      <td>None</td>\n",
       "      <td>None</td>\n",
       "      <td>None</td>\n",
       "      <td>...</td>\n",
       "      <td>None</td>\n",
       "      <td>None</td>\n",
       "      <td>None</td>\n",
       "      <td>None</td>\n",
       "      <td>None</td>\n",
       "      <td>725611</td>\n",
       "      <td>None</td>\n",
       "      <td>None</td>\n",
       "      <td>None</td>\n",
       "      <td>https://safebooru.org/index.php?page=post&amp;s=li...</td>\n",
       "    </tr>\n",
       "    <tr>\n",
       "      <th>2</th>\n",
       "      <td>general</td>\n",
       "      <td>ind</td>\n",
       "      <td>None</td>\n",
       "      <td>None</td>\n",
       "      <td>None</td>\n",
       "      <td>None</td>\n",
       "      <td>None</td>\n",
       "      <td>None</td>\n",
       "      <td>None</td>\n",
       "      <td>None</td>\n",
       "      <td>...</td>\n",
       "      <td>None</td>\n",
       "      <td>None</td>\n",
       "      <td>None</td>\n",
       "      <td>None</td>\n",
       "      <td>None</td>\n",
       "      <td>121</td>\n",
       "      <td>None</td>\n",
       "      <td>None</td>\n",
       "      <td>None</td>\n",
       "      <td>https://safebooru.org/index.php?page=post&amp;s=li...</td>\n",
       "    </tr>\n",
       "    <tr>\n",
       "      <th>3</th>\n",
       "      <td>artist</td>\n",
       "      <td>shouri</td>\n",
       "      <td>None</td>\n",
       "      <td>None</td>\n",
       "      <td>None</td>\n",
       "      <td>None</td>\n",
       "      <td>None</td>\n",
       "      <td>None</td>\n",
       "      <td>None</td>\n",
       "      <td>None</td>\n",
       "      <td>...</td>\n",
       "      <td>None</td>\n",
       "      <td>None</td>\n",
       "      <td>None</td>\n",
       "      <td>None</td>\n",
       "      <td>None</td>\n",
       "      <td>harpy_killer</td>\n",
       "      <td>None</td>\n",
       "      <td>None</td>\n",
       "      <td>None</td>\n",
       "      <td>https://safebooru.org/index.php?page=post&amp;s=li...</td>\n",
       "    </tr>\n",
       "    <tr>\n",
       "      <th>4</th>\n",
       "      <td>general</td>\n",
       "      <td>jun</td>\n",
       "      <td>None</td>\n",
       "      <td>None</td>\n",
       "      <td>None</td>\n",
       "      <td>None</td>\n",
       "      <td>None</td>\n",
       "      <td>None</td>\n",
       "      <td>None</td>\n",
       "      <td>None</td>\n",
       "      <td>...</td>\n",
       "      <td>None</td>\n",
       "      <td>None</td>\n",
       "      <td>None</td>\n",
       "      <td>None</td>\n",
       "      <td>None</td>\n",
       "      <td>pokemon</td>\n",
       "      <td>cosplay</td>\n",
       "      <td>None</td>\n",
       "      <td>None</td>\n",
       "      <td>https://safebooru.org/index.php?page=post&amp;s=li...</td>\n",
       "    </tr>\n",
       "  </tbody>\n",
       "</table>\n",
       "<p>5 rows × 30 columns</p>\n",
       "</div>"
      ],
      "text/plain": [
       "  Main_Category       Name_1 Name_2 Name_3 Name_4 Name_5 Name_6 Name_7 Name_8  \\\n",
       "0       general  sleepymausu   None   None   None   None   None   None   None   \n",
       "1        artist         hiro   None   None   None   None   None   None   None   \n",
       "2       general          ind   None   None   None   None   None   None   None   \n",
       "3        artist       shouri   None   None   None   None   None   None   None   \n",
       "4       general          jun   None   None   None   None   None   None   None   \n",
       "\n",
       "  Name_9  ... Name_20 Name_21 Name_22 Name_23 Name_24    Category_1  \\\n",
       "0   None  ...    None    None    None    None    None          None   \n",
       "1   None  ...    None    None    None    None    None        725611   \n",
       "2   None  ...    None    None    None    None    None           121   \n",
       "3   None  ...    None    None    None    None    None  harpy_killer   \n",
       "4   None  ...    None    None    None    None    None       pokemon   \n",
       "\n",
       "  Category_2 Category_3 Category_4  \\\n",
       "0       None       None       None   \n",
       "1       None       None       None   \n",
       "2       None       None       None   \n",
       "3       None       None       None   \n",
       "4    cosplay       None       None   \n",
       "\n",
       "                                                Link  \n",
       "0  https://safebooru.org/index.php?page=post&s=li...  \n",
       "1  https://safebooru.org/index.php?page=post&s=li...  \n",
       "2  https://safebooru.org/index.php?page=post&s=li...  \n",
       "3  https://safebooru.org/index.php?page=post&s=li...  \n",
       "4  https://safebooru.org/index.php?page=post&s=li...  \n",
       "\n",
       "[5 rows x 30 columns]"
      ]
     },
     "execution_count": 29,
     "metadata": {},
     "output_type": "execute_result"
    }
   ],
   "source": [
    "df_tags = pd.DataFrame.from_dict(data)\n",
    "df_tags.head()"
   ]
  },
  {
   "cell_type": "code",
   "execution_count": 35,
   "id": "5c8a6bc1",
   "metadata": {},
   "outputs": [],
   "source": [
    "#import os\n",
    "#import sys\n",
    "#import boto3\n",
    "#import pymysql\n",
    "import mysql.connector\n",
    "from important import ep, user, ps, port, region, db"
   ]
  },
  {
   "cell_type": "code",
   "execution_count": 43,
   "id": "9308bb01",
   "metadata": {},
   "outputs": [
    {
     "name": "stdout",
     "output_type": "stream",
     "text": [
      "<mysql.connector.connection_cext.CMySQLConnection object at 0x0000026367491B70>\n"
     ]
    }
   ],
   "source": [
    "safebooru_db = mysql.connector.connect(\n",
    "    host=ep,\n",
    "    user=user,\n",
    "    password=ps\n",
    "    #database=\n",
    ")\n",
    "\n",
    "print(safebooru_db)"
   ]
  },
  {
   "cell_type": "code",
   "execution_count": 46,
   "id": "204731b4",
   "metadata": {},
   "outputs": [],
   "source": [
    "if safebooru_db.is_connected():\n",
    "    cursor = safebooru_db.cursor()\n",
    "    cursor.execute(\"DROP DATABASE IF EXISTS safebooru_info\")\n",
    "    cursor.execute(\"CREATE DATABASE safebooru_info\")"
   ]
  },
  {
   "cell_type": "code",
   "execution_count": 50,
   "id": "72c41cdb",
   "metadata": {},
   "outputs": [
    {
     "name": "stdout",
     "output_type": "stream",
     "text": [
      "You're connected to database: ('safebooru_info',)\n",
      "Creating Table\n",
      "Table is created...\n"
     ]
    },
    {
     "ename": "NameError",
     "evalue": "name 'Error' is not defined",
     "output_type": "error",
     "traceback": [
      "\u001b[1;31m---------------------------------------------------------------------------\u001b[0m",
      "\u001b[1;31mMySQLInterfaceError\u001b[0m                       Traceback (most recent call last)",
      "File \u001b[1;32m~\\anaconda3\\lib\\site-packages\\mysql\\connector\\connection_cext.py:639\u001b[0m, in \u001b[0;36mCMySQLConnection.cmd_query\u001b[1;34m(self, query, raw, buffered, raw_as_string)\u001b[0m\n\u001b[0;32m    638\u001b[0m         query \u001b[38;5;241m=\u001b[39m query\u001b[38;5;241m.\u001b[39mencode(\u001b[38;5;124m\"\u001b[39m\u001b[38;5;124mutf-8\u001b[39m\u001b[38;5;124m\"\u001b[39m)\n\u001b[1;32m--> 639\u001b[0m     \u001b[38;5;28;43mself\u001b[39;49m\u001b[38;5;241;43m.\u001b[39;49m\u001b[43m_cmysql\u001b[49m\u001b[38;5;241;43m.\u001b[39;49m\u001b[43mquery\u001b[49m\u001b[43m(\u001b[49m\n\u001b[0;32m    640\u001b[0m \u001b[43m        \u001b[49m\u001b[43mquery\u001b[49m\u001b[43m,\u001b[49m\n\u001b[0;32m    641\u001b[0m \u001b[43m        \u001b[49m\u001b[43mraw\u001b[49m\u001b[38;5;241;43m=\u001b[39;49m\u001b[43mraw\u001b[49m\u001b[43m,\u001b[49m\n\u001b[0;32m    642\u001b[0m \u001b[43m        \u001b[49m\u001b[43mbuffered\u001b[49m\u001b[38;5;241;43m=\u001b[39;49m\u001b[43mbuffered\u001b[49m\u001b[43m,\u001b[49m\n\u001b[0;32m    643\u001b[0m \u001b[43m        \u001b[49m\u001b[43mraw_as_string\u001b[49m\u001b[38;5;241;43m=\u001b[39;49m\u001b[43mraw_as_string\u001b[49m\u001b[43m,\u001b[49m\n\u001b[0;32m    644\u001b[0m \u001b[43m        \u001b[49m\u001b[43mquery_attrs\u001b[49m\u001b[38;5;241;43m=\u001b[39;49m\u001b[38;5;28;43mself\u001b[39;49m\u001b[38;5;241;43m.\u001b[39;49m\u001b[43mquery_attrs\u001b[49m\u001b[43m,\u001b[49m\n\u001b[0;32m    645\u001b[0m \u001b[43m    \u001b[49m\u001b[43m)\u001b[49m\n\u001b[0;32m    646\u001b[0m \u001b[38;5;28;01mexcept\u001b[39;00m MySQLInterfaceError \u001b[38;5;28;01mas\u001b[39;00m err:\n",
      "\u001b[1;31mMySQLInterfaceError\u001b[0m: Lost connection to MySQL server during query",
      "\nThe above exception was the direct cause of the following exception:\n",
      "\u001b[1;31mOperationalError\u001b[0m                          Traceback (most recent call last)",
      "Cell \u001b[1;32mIn[50], line 17\u001b[0m\n\u001b[0;32m     16\u001b[0m sql \u001b[38;5;241m=\u001b[39m \u001b[38;5;124m\"\u001b[39m\u001b[38;5;124mINSERT INTO safebooru_tags VALUES (\u001b[39m\u001b[38;5;132;01m%s\u001b[39;00m\u001b[38;5;124m, \u001b[39m\u001b[38;5;132;01m%s\u001b[39;00m\u001b[38;5;124m, \u001b[39m\u001b[38;5;132;01m%s\u001b[39;00m\u001b[38;5;124m, \u001b[39m\u001b[38;5;132;01m%s\u001b[39;00m\u001b[38;5;124m, \u001b[39m\u001b[38;5;132;01m%s\u001b[39;00m\u001b[38;5;124m, \u001b[39m\u001b[38;5;132;01m%s\u001b[39;00m\u001b[38;5;124m, \u001b[39m\u001b[38;5;132;01m%s\u001b[39;00m\u001b[38;5;124m, \u001b[39m\u001b[38;5;132;01m%s\u001b[39;00m\u001b[38;5;124m, \u001b[39m\u001b[38;5;132;01m%s\u001b[39;00m\u001b[38;5;124m, \u001b[39m\u001b[38;5;132;01m%s\u001b[39;00m\u001b[38;5;124m, \u001b[39m\u001b[38;5;132;01m%s\u001b[39;00m\u001b[38;5;124m, \u001b[39m\u001b[38;5;132;01m%s\u001b[39;00m\u001b[38;5;124m, \u001b[39m\u001b[38;5;132;01m%s\u001b[39;00m\u001b[38;5;124m, \u001b[39m\u001b[38;5;132;01m%s\u001b[39;00m\u001b[38;5;124m, \u001b[39m\u001b[38;5;132;01m%s\u001b[39;00m\u001b[38;5;124m, \u001b[39m\u001b[38;5;132;01m%s\u001b[39;00m\u001b[38;5;124m, \u001b[39m\u001b[38;5;132;01m%s\u001b[39;00m\u001b[38;5;124m, \u001b[39m\u001b[38;5;132;01m%s\u001b[39;00m\u001b[38;5;124m, \u001b[39m\u001b[38;5;132;01m%s\u001b[39;00m\u001b[38;5;124m, \u001b[39m\u001b[38;5;132;01m%s\u001b[39;00m\u001b[38;5;124m, \u001b[39m\u001b[38;5;132;01m%s\u001b[39;00m\u001b[38;5;124m, \u001b[39m\u001b[38;5;132;01m%s\u001b[39;00m\u001b[38;5;124m, \u001b[39m\u001b[38;5;132;01m%s\u001b[39;00m\u001b[38;5;124m, \u001b[39m\u001b[38;5;132;01m%s\u001b[39;00m\u001b[38;5;124m, \u001b[39m\u001b[38;5;132;01m%s\u001b[39;00m\u001b[38;5;124m, \u001b[39m\u001b[38;5;132;01m%s\u001b[39;00m\u001b[38;5;124m, \u001b[39m\u001b[38;5;132;01m%s\u001b[39;00m\u001b[38;5;124m, \u001b[39m\u001b[38;5;132;01m%s\u001b[39;00m\u001b[38;5;124m, \u001b[39m\u001b[38;5;132;01m%s\u001b[39;00m\u001b[38;5;124m, \u001b[39m\u001b[38;5;132;01m%s\u001b[39;00m\u001b[38;5;124m)\u001b[39m\u001b[38;5;124m\"\u001b[39m\n\u001b[1;32m---> 17\u001b[0m \u001b[43mcursor\u001b[49m\u001b[38;5;241;43m.\u001b[39;49m\u001b[43mexecute\u001b[49m\u001b[43m(\u001b[49m\u001b[43msql\u001b[49m\u001b[43m,\u001b[49m\u001b[43m \u001b[49m\u001b[38;5;28;43mtuple\u001b[39;49m\u001b[43m(\u001b[49m\u001b[43mrow\u001b[49m\u001b[43m)\u001b[49m\u001b[43m)\u001b[49m\n\u001b[0;32m     18\u001b[0m cnx\u001b[38;5;241m.\u001b[39mcommit()\n",
      "File \u001b[1;32m~\\anaconda3\\lib\\site-packages\\mysql\\connector\\cursor_cext.py:330\u001b[0m, in \u001b[0;36mCMySQLCursor.execute\u001b[1;34m(self, operation, params, multi)\u001b[0m\n\u001b[0;32m    329\u001b[0m \u001b[38;5;28;01mtry\u001b[39;00m:\n\u001b[1;32m--> 330\u001b[0m     result \u001b[38;5;241m=\u001b[39m \u001b[38;5;28;43mself\u001b[39;49m\u001b[38;5;241;43m.\u001b[39;49m\u001b[43m_cnx\u001b[49m\u001b[38;5;241;43m.\u001b[39;49m\u001b[43mcmd_query\u001b[49m\u001b[43m(\u001b[49m\n\u001b[0;32m    331\u001b[0m \u001b[43m        \u001b[49m\u001b[43mstmt\u001b[49m\u001b[43m,\u001b[49m\n\u001b[0;32m    332\u001b[0m \u001b[43m        \u001b[49m\u001b[43mraw\u001b[49m\u001b[38;5;241;43m=\u001b[39;49m\u001b[38;5;28;43mself\u001b[39;49m\u001b[38;5;241;43m.\u001b[39;49m\u001b[43m_raw\u001b[49m\u001b[43m,\u001b[49m\n\u001b[0;32m    333\u001b[0m \u001b[43m        \u001b[49m\u001b[43mbuffered\u001b[49m\u001b[38;5;241;43m=\u001b[39;49m\u001b[38;5;28;43mself\u001b[39;49m\u001b[38;5;241;43m.\u001b[39;49m\u001b[43m_buffered\u001b[49m\u001b[43m,\u001b[49m\n\u001b[0;32m    334\u001b[0m \u001b[43m        \u001b[49m\u001b[43mraw_as_string\u001b[49m\u001b[38;5;241;43m=\u001b[39;49m\u001b[38;5;28;43mself\u001b[39;49m\u001b[38;5;241;43m.\u001b[39;49m\u001b[43m_raw_as_string\u001b[49m\u001b[43m,\u001b[49m\n\u001b[0;32m    335\u001b[0m \u001b[43m    \u001b[49m\u001b[43m)\u001b[49m\n\u001b[0;32m    336\u001b[0m \u001b[38;5;28;01mexcept\u001b[39;00m MySQLInterfaceError \u001b[38;5;28;01mas\u001b[39;00m err:\n",
      "File \u001b[1;32m~\\anaconda3\\lib\\site-packages\\mysql\\connector\\opentelemetry\\context_propagation.py:77\u001b[0m, in \u001b[0;36mwith_context_propagation.<locals>.wrapper\u001b[1;34m(cnx, *args, **kwargs)\u001b[0m\n\u001b[0;32m     76\u001b[0m \u001b[38;5;28;01mif\u001b[39;00m \u001b[38;5;129;01mnot\u001b[39;00m OTEL_ENABLED \u001b[38;5;129;01mor\u001b[39;00m \u001b[38;5;129;01mnot\u001b[39;00m cnx\u001b[38;5;241m.\u001b[39motel_context_propagation:\n\u001b[1;32m---> 77\u001b[0m     \u001b[38;5;28;01mreturn\u001b[39;00m method(cnx, \u001b[38;5;241m*\u001b[39margs, \u001b[38;5;241m*\u001b[39m\u001b[38;5;241m*\u001b[39mkwargs)\n\u001b[0;32m     79\u001b[0m current_span \u001b[38;5;241m=\u001b[39m trace\u001b[38;5;241m.\u001b[39mget_current_span()\n",
      "File \u001b[1;32m~\\anaconda3\\lib\\site-packages\\mysql\\connector\\connection_cext.py:647\u001b[0m, in \u001b[0;36mCMySQLConnection.cmd_query\u001b[1;34m(self, query, raw, buffered, raw_as_string)\u001b[0m\n\u001b[0;32m    646\u001b[0m \u001b[38;5;28;01mexcept\u001b[39;00m MySQLInterfaceError \u001b[38;5;28;01mas\u001b[39;00m err:\n\u001b[1;32m--> 647\u001b[0m     \u001b[38;5;28;01mraise\u001b[39;00m get_mysql_exception(\n\u001b[0;32m    648\u001b[0m         err\u001b[38;5;241m.\u001b[39merrno, msg\u001b[38;5;241m=\u001b[39merr\u001b[38;5;241m.\u001b[39mmsg, sqlstate\u001b[38;5;241m=\u001b[39merr\u001b[38;5;241m.\u001b[39msqlstate\n\u001b[0;32m    649\u001b[0m     ) \u001b[38;5;28;01mfrom\u001b[39;00m \u001b[38;5;21;01merr\u001b[39;00m\n\u001b[0;32m    650\u001b[0m \u001b[38;5;28;01mexcept\u001b[39;00m \u001b[38;5;167;01mAttributeError\u001b[39;00m \u001b[38;5;28;01mas\u001b[39;00m err:\n",
      "\u001b[1;31mOperationalError\u001b[0m: 2013 (HY000): Lost connection to MySQL server during query",
      "\nDuring handling of the above exception, another exception occurred:\n",
      "\u001b[1;31mNameError\u001b[0m                                 Traceback (most recent call last)",
      "Cell \u001b[1;32mIn[50], line 19\u001b[0m\n\u001b[0;32m     17\u001b[0m             cursor\u001b[38;5;241m.\u001b[39mexecute(sql, \u001b[38;5;28mtuple\u001b[39m(row))\n\u001b[0;32m     18\u001b[0m             cnx\u001b[38;5;241m.\u001b[39mcommit()\n\u001b[1;32m---> 19\u001b[0m \u001b[38;5;28;01mexcept\u001b[39;00m \u001b[43mError\u001b[49m \u001b[38;5;28;01mas\u001b[39;00m e:\n\u001b[0;32m     20\u001b[0m     \u001b[38;5;28mprint\u001b[39m(\u001b[38;5;124m\"\u001b[39m\u001b[38;5;124mError while connecting to MySQL\u001b[39m\u001b[38;5;124m\"\u001b[39m, e)\n",
      "\u001b[1;31mNameError\u001b[0m: name 'Error' is not defined"
     ]
    }
   ],
   "source": [
    "try:\n",
    "    cnx = mysql.connector.connect(host=ep, database=\"safebooru_info\", user=user, password=ps)\n",
    "    if cnx.is_connected():\n",
    "        cursor = cnx.cursor()\n",
    "        cursor.execute(\"SELECT database();\")\n",
    "        record = cursor.fetchone()\n",
    "        print(f\"You're connected to database: {record}\")\n",
    "        \n",
    "        cursor.execute(\"DROP TABLE IF EXISTS safebooru_tags;\")\n",
    "        print(\"Creating Table\")\n",
    "        \n",
    "        cursor.execute(\"Create TABLE safebooru_tags(Main_Category VARCHAR(16), Name_1 VARCHAR(16), Name_2 VARCHAR(16), Name_3 VARCHAR(16), Name_4 VARCHAR(16), Name_5 VARCHAR(16), Name_6 VARCHAR(16), Name_7 VARCHAR(16), Name_8 VARCHAR(16), Name_9 VARCHAR(16), Name_10 VARCHAR(16), Name_11 VARCHAR(16), Name_12 VARCHAR(16), Name_13 VARCHAR(16), Name_14 VARCHAR(16), Name_15 VARCHAR(16), Name_16 VARCHAR(16), Name_17 VARCHAR(16), Name_18 VARCHAR(16), Name_19 VARCHAR(16), Name_20 VARCHAR(16), Name_21 VARCHAR(16), Name_22 VARCHAR(16), Name_23 VARCHAR(16), Name_24 VARCHAR(16), Category_1 VARCHAR(16), Category_2 VARCHAR(16), Category_3 VARCHAR(16), Category_4 VARCHAR(16), Link VARCHAR(48));\")\n",
    "        print(\"Table is created...\")\n",
    "        \n",
    "        for i, row in df_tags.iterrows():\n",
    "            sql = \"INSERT INTO safebooru_tags VALUES (%s, %s, %s, %s, %s, %s, %s, %s, %s, %s, %s, %s, %s, %s, %s, %s, %s, %s, %s, %s, %s, %s, %s, %s, %s, %s, %s, %s, %s, %s)\"\n",
    "            cursor.execute(sql, tuple(row))\n",
    "            cnx.commit()\n",
    "except Error as e:\n",
    "    print(\"Error while connecting to MySQL\", e)"
   ]
  },
  {
   "cell_type": "code",
   "execution_count": null,
   "id": "df4730b6",
   "metadata": {},
   "outputs": [],
   "source": []
  }
 ],
 "metadata": {
  "kernelspec": {
   "display_name": "Python 3 (ipykernel)",
   "language": "python",
   "name": "python3"
  },
  "language_info": {
   "codemirror_mode": {
    "name": "ipython",
    "version": 3
   },
   "file_extension": ".py",
   "mimetype": "text/x-python",
   "name": "python",
   "nbconvert_exporter": "python",
   "pygments_lexer": "ipython3",
   "version": "3.10.9"
  }
 },
 "nbformat": 4,
 "nbformat_minor": 5
}
