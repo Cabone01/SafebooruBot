{
 "cells": [
  {
   "cell_type": "code",
   "execution_count": 1,
   "id": "40703b44",
   "metadata": {},
   "outputs": [],
   "source": [
    "import time\n",
    "import numpy as np\n",
    "import pandas as pd\n",
    "from splinter import Browser\n",
    "from bs4 import BeautifulSoup\n",
    "from selenium import webdriver\n",
    "from selenium.webdriver.common.by import By\n",
    "from selenium.webdriver.chrome.service import Service\n",
    "from selenium.common.exceptions import TimeoutException\n",
    "from webdriver_manager.chrome import ChromeDriverManager\n",
    "from selenium.webdriver.support.wait import WebDriverWait\n",
    "from selenium.webdriver.common.action_chains import ActionChains\n",
    "from selenium.webdriver.support import expected_conditions as EC"
   ]
  },
  {
   "cell_type": "code",
   "execution_count": 2,
   "id": "c6ed8f87",
   "metadata": {},
   "outputs": [],
   "source": [
    "opt = webdriver.ChromeOptions()\n",
    "opt.add_argument(\"--incognito\")\n",
    "opt.add_argument(\"disable-infobars\")\n",
    "opt.add_argument(\"--disable-extensions\")\n",
    "opt.add_argument(\"--disable-gpu\")\n",
    "opt.add_argument(\"--disable-dev-shm-usage\")\n",
    "opt.add_argument(\"--no-sandbox\")\n",
    "user_agent = 'Mozilla/5.0 (Windows NT 10.0; Win64; x64) AppleWebKit/537.36 (KHTML, like Gecko) Chrome/83.0.4103.116 Safari/537.36'\n",
    "opt.add_argument(f'user-agent={user_agent}')\n",
    "opt.add_argument(\"--headless=new\")\n",
    "\n",
    "driver = webdriver.Chrome(options=opt)\n",
    "driver.get(\"https://safebooru.org/index.php?page=tags&s=list&pid=0\")\n",
    "wait = WebDriverWait(driver, 20)"
   ]
  },
  {
   "cell_type": "code",
   "execution_count": 3,
   "id": "5dbfeb82",
   "metadata": {},
   "outputs": [
    {
     "data": {
      "text/plain": [
       "<selenium.webdriver.remote.webelement.WebElement (session=\"4b18265656eee4aa1313b9cc2411f8a2\", element=\"f.522391732A264767C5570AED895DFE3C.d.0CFF185537CFF9BDBD541D4608C687A3.e.9\")>"
      ]
     },
     "execution_count": 3,
     "metadata": {},
     "output_type": "execute_result"
    }
   ],
   "source": [
    "#wait.until(EC.visibility_of_element_located((By.CLASS_NAME, \"pagination\")))"
   ]
  },
  {
   "cell_type": "code",
   "execution_count": 4,
   "id": "06784476",
   "metadata": {},
   "outputs": [],
   "source": [
    "#page = driver.page_source\n",
    "#soup = BeautifulSoup(page, \"lxml\")"
   ]
  },
  {
   "cell_type": "code",
   "execution_count": 5,
   "id": "e6e24a75",
   "metadata": {},
   "outputs": [],
   "source": [
    "#tag_table = soup.find(class_=\"highlightable\")"
   ]
  },
  {
   "cell_type": "code",
   "execution_count": 6,
   "id": "ac4e2ef1",
   "metadata": {},
   "outputs": [],
   "source": [
    "#tags = tag_table.find_all(\"span\", class_=[\"tag-type-copyright\", \"tag-type-artist\", \"tag-type-general\", \"tag-type-character\", \"tag-type-metadata\"])#href=True\n",
    "#tags = tag_table.find_all(\"a\")"
   ]
  },
  {
   "cell_type": "code",
   "execution_count": 7,
   "id": "2b026bf4",
   "metadata": {},
   "outputs": [],
   "source": [
    "#tags"
   ]
  },
  {
   "cell_type": "code",
   "execution_count": 8,
   "id": "be9660b0",
   "metadata": {},
   "outputs": [],
   "source": [
    "#button_location = driver.find_element(By.CLASS_NAME, \"pagination\")\n",
    "#button = button_location.find_element(By.XPATH, '//a[@alt=\"next\"]')\n",
    "#button.click()"
   ]
  },
  {
   "cell_type": "code",
   "execution_count": 9,
   "id": "b47b3865",
   "metadata": {},
   "outputs": [],
   "source": [
    "#button_location.text"
   ]
  },
  {
   "cell_type": "code",
   "execution_count": 10,
   "id": "00ed0f37",
   "metadata": {},
   "outputs": [],
   "source": [
    "#soup.find(alt=\"next\") != None"
   ]
  },
  {
   "cell_type": "code",
   "execution_count": null,
   "id": "6991577f",
   "metadata": {},
   "outputs": [],
   "source": [
    "tags = []\n",
    "scrape = True\n",
    "\n",
    "while scrape:\n",
    "    try:\n",
    "        wait.until(EC.visibility_of_element_located((By.CLASS_NAME, \"pagination\")))\n",
    "        page = driver.page_source\n",
    "        soup = BeautifulSoup(page, \"lxml\")\n",
    "        tag_table = soup.find(class_=\"highlightable\")\n",
    "        tags += tag_table.find_all(\"span\", class_=[\"tag-type-copyright\", \"tag-type-artist\", \"tag-type-general\", \"tag-type-character\", \"tag-type-metadata\"])\n",
    "    \n",
    "        if soup.find(alt=\"next\") != None:\n",
    "            button_location = driver.find_element(By.CLASS_NAME, \"pagination\")\n",
    "            button = button_location.find_element(By.XPATH, '//a[@alt=\"next\"]')\n",
    "            button.click()\n",
    "        else:\n",
    "            scrape = False\n",
    "    except TimeoutException:\n",
    "        driver.refresh()"
   ]
  },
  {
   "cell_type": "code",
   "execution_count": null,
   "id": "b0d0aa92",
   "metadata": {},
   "outputs": [],
   "source": [
    "len(tags)"
   ]
  },
  {
   "cell_type": "code",
   "execution_count": null,
   "id": "074b8de3",
   "metadata": {},
   "outputs": [],
   "source": [
    "len(set(tags))"
   ]
  },
  {
   "cell_type": "code",
   "execution_count": null,
   "id": "e71b1b08",
   "metadata": {},
   "outputs": [],
   "source": [
    "driver.close()"
   ]
  },
  {
   "cell_type": "code",
   "execution_count": null,
   "id": "4f758e87",
   "metadata": {},
   "outputs": [],
   "source": [
    "nd_tags = list(set(tags))"
   ]
  },
  {
   "cell_type": "code",
   "execution_count": null,
   "id": "1b672aeb",
   "metadata": {},
   "outputs": [],
   "source": [
    "url = 'https://safebooru.org'"
   ]
  },
  {
   "cell_type": "code",
   "execution_count": null,
   "id": "724451c8",
   "metadata": {},
   "outputs": [],
   "source": [
    "names = []\n",
    "links = []\n",
    "for i in nd_tags:\n",
    "    get_ = i.find('a')['href'].strip().split('/')[-1]\n",
    "    link = \"{}/{}\".format(url, get_)\n",
    "    names.append(i.text)\n",
    "    links.append(link)\n",
    "#    print(link)"
   ]
  },
  {
   "cell_type": "code",
   "execution_count": null,
   "id": "cdf0b1c2",
   "metadata": {},
   "outputs": [],
   "source": [
    "#with open(\"tags.txt\", \"w\") as f:\n",
    "#    for line in nd_tags:\n",
    "#        f.write(str(nd_tags) +\"\\n\")"
   ]
  },
  {
   "cell_type": "code",
   "execution_count": null,
   "id": "58421300",
   "metadata": {},
   "outputs": [],
   "source": []
  }
 ],
 "metadata": {
  "kernelspec": {
   "display_name": "Python 3 (ipykernel)",
   "language": "python",
   "name": "python3"
  },
  "language_info": {
   "codemirror_mode": {
    "name": "ipython",
    "version": 3
   },
   "file_extension": ".py",
   "mimetype": "text/x-python",
   "name": "python",
   "nbconvert_exporter": "python",
   "pygments_lexer": "ipython3",
   "version": "3.10.9"
  }
 },
 "nbformat": 4,
 "nbformat_minor": 5
}
